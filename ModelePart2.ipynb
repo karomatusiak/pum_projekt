{
  "nbformat": 4,
  "nbformat_minor": 0,
  "metadata": {
    "colab": {
      "provenance": [],
      "include_colab_link": true
    },
    "kernelspec": {
      "name": "python3",
      "display_name": "Python 3"
    },
    "language_info": {
      "name": "python"
    }
  },
  "cells": [
    {
      "cell_type": "markdown",
      "metadata": {
        "id": "view-in-github",
        "colab_type": "text"
      },
      "source": [
        "<a href=\"https://colab.research.google.com/github/karomatusiak/pum_projekt/blob/main/ModelePart2.ipynb\" target=\"_parent\"><img src=\"https://colab.research.google.com/assets/colab-badge.svg\" alt=\"Open In Colab\"/></a>"
      ]
    },
    {
      "cell_type": "markdown",
      "source": [
        "# MODELE REGRESYJNE"
      ],
      "metadata": {
        "id": "x6VpTGITj3_7"
      }
    },
    {
      "cell_type": "code",
      "source": [
        "import pandas as pd\n",
        "import numpy as np\n",
        "from xgboost import XGBRegressor\n",
        "from sklearn.tree import DecisionTreeClassifier\n",
        "from sklearn.model_selection import train_test_split, cross_val_score\n",
        "from sklearn.ensemble import RandomForestRegressor, RandomForestClassifier\n",
        "from sklearn.metrics import accuracy_score, classification_report, confusion_matrix, mean_squared_error, r2_score, roc_auc_score, precision_score, recall_score, f1_score"
      ],
      "metadata": {
        "id": "qi8zp5S7kAxj"
      },
      "execution_count": null,
      "outputs": []
    },
    {
      "cell_type": "markdown",
      "source": [
        "Wczytanie danych"
      ],
      "metadata": {
        "id": "O66KWXyqj8ir"
      }
    },
    {
      "cell_type": "code",
      "source": [
        "file_path = 'data_cleaned_reduced.csv'\n",
        "data = pd.read_csv(file_path)"
      ],
      "metadata": {
        "id": "WDYC8qf3j7TZ"
      },
      "execution_count": null,
      "outputs": []
    },
    {
      "cell_type": "markdown",
      "source": [
        "Podział danych na zmienne wejściowe i wyjściowe"
      ],
      "metadata": {
        "id": "7bsmT7t_kLGe"
      }
    },
    {
      "cell_type": "code",
      "source": [
        "X = data.drop('quality', axis=1)\n",
        "y = data['quality']"
      ],
      "metadata": {
        "id": "DknoWx0lkGkJ"
      },
      "execution_count": null,
      "outputs": []
    },
    {
      "cell_type": "markdown",
      "source": [
        "Podział na zestaw treningowy i testowy"
      ],
      "metadata": {
        "id": "d4jaeeRykOqk"
      }
    },
    {
      "cell_type": "code",
      "source": [
        "X_train, X_test, y_train, y_test = train_test_split(X, y, test_size=0.2, random_state=42)"
      ],
      "metadata": {
        "id": "yvJ-deEPkNPO"
      },
      "execution_count": null,
      "outputs": []
    },
    {
      "cell_type": "markdown",
      "source": [
        "## Model RandomForestRegressor"
      ],
      "metadata": {
        "id": "hlXQtMZCkq3W"
      }
    },
    {
      "cell_type": "code",
      "source": [
        "model_rf_regressor = RandomForestRegressor(random_state=42)\n",
        "model_rf_regressor.fit(X_train, y_train)\n",
        "predictions_rf_regressor = model_rf_regressor.predict(X_test)\n",
        "\n",
        "cv_scores_rf_regressor = cross_val_score(estimator=model_rf_regressor, X=X_train, y=y_train, cv=20, scoring='r2')\n",
        "rmse_rf_regressor = np.sqrt(mean_squared_error(y_test, predictions_rf_regressor))\n",
        "r2_rf_regressor = model_rf_regressor.score(X_test, y_test)\n"
      ],
      "metadata": {
        "id": "2Ho9dLw3nU1A"
      },
      "execution_count": null,
      "outputs": []
    },
    {
      "cell_type": "code",
      "source": [
        "print(\"Cross-validated R^2 scores: \", list(map(lambda x: round(x, 4), cv_scores_rf_regressor)))\n",
        "print(\"Mean R^2 from CV: \", round(cv_scores_rf_regressor.mean(), 4))\n",
        "print(\"Standard Deviation of R-squared from CV (RMSE):\", round(rmse_rf_regressor, 4))\n",
        "print('RandomForestRegressor R2:', round(r2_rf_regressor, 4))"
      ],
      "metadata": {
        "colab": {
          "base_uri": "https://localhost:8080/"
        },
        "id": "QHareEGykxnF",
        "outputId": "c590e19c-5444-42d6-ae0a-104d0eb20e35"
      },
      "execution_count": null,
      "outputs": [
        {
          "output_type": "stream",
          "name": "stdout",
          "text": [
            "Cross-validated R^2 scores:  [0.2145, 0.0831, 0.2848, 0.3234, 0.319, 0.2021, 0.3858, 0.2623, 0.3213, 0.2111, 0.2174, 0.224, 0.3088, 0.3512, 0.4228, 0.2457, 0.2903, 0.2319, 0.2734, 0.1434]\n",
            "Mean R^2 from CV:  0.2658\n",
            "Standard Deviation of R-squared from CV (RMSE): 0.2001\n",
            "RandomForestRegressor R2: 0.3561\n"
          ]
        }
      ]
    },
    {
      "cell_type": "markdown",
      "source": [
        "## Model XGBoost"
      ],
      "metadata": {
        "id": "XolMnBJHudzK"
      }
    },
    {
      "cell_type": "code",
      "source": [
        "XGBR = XGBRegressor(n_estimators=1000, max_depth=7, eta=0.1, subsample=0.8, colsample_bytree=0.8, random_state=42)\n",
        "XGBR.fit(X_train, y_train)\n",
        "y_pred = XGBR.predict(X_test)\n",
        "\n",
        "cv_scores = cross_val_score(estimator=XGBR, X=X_train, y=y_train, cv=20, scoring='r2')\n",
        "rmse = np.sqrt(mean_squared_error(y_test, y_pred))\n",
        "r2 = XGBR.score(X_test, y_test)"
      ],
      "metadata": {
        "id": "l2eJcrF1njog"
      },
      "execution_count": null,
      "outputs": []
    },
    {
      "cell_type": "code",
      "source": [
        "print(\"Cross-validated R^2 scores: \", list(map(lambda x: round(x, 4), cv_scores)))\n",
        "print(\"Mean R^2 from CV: \", round(cv_scores.mean(), 4))\n",
        "print(\"Standard Deviation of R-squared from CV (RMSE):\", round(rmse, 4))\n",
        "print('XGBRegressor R2:', round(r2, 4))"
      ],
      "metadata": {
        "colab": {
          "base_uri": "https://localhost:8080/"
        },
        "id": "oThj9FIqn2LY",
        "outputId": "8212eb5c-c8a6-4f87-9d94-fbbc5bae343c"
      },
      "execution_count": null,
      "outputs": [
        {
          "output_type": "stream",
          "name": "stdout",
          "text": [
            "Cross-validated R^2 scores:  [0.0923, 0.0376, 0.248, 0.2623, 0.2635, 0.1329, 0.3345, 0.1239, 0.1441, 0.1266, 0.1003, 0.1716, 0.2819, 0.2489, 0.3655, 0.2657, 0.2499, 0.1193, 0.1064, 0.1147]\n",
            "Mean R^2 from CV:  0.1895\n",
            "Standard Deviation of R-squared from CV (RMSE): 0.2036\n",
            "XGBRegressor R2: 0.3331\n"
          ]
        }
      ]
    },
    {
      "cell_type": "markdown",
      "source": [
        "# MODELE KLASYFIKACYJNE"
      ],
      "metadata": {
        "id": "IT_ZXpEhlepl"
      }
    },
    {
      "cell_type": "markdown",
      "source": [
        "Stworzenie przedziałów, aby model mógł przewidywać zamiast wartości ciągłych kategorie"
      ],
      "metadata": {
        "id": "fAWlI7C3lruD"
      }
    },
    {
      "cell_type": "code",
      "source": [
        "bins = [0, 0.4, 0.7, 1]\n",
        "labels = ['bad', 'average', 'good']\n",
        "data['quality_binned'] = pd.cut(data['quality'], bins=bins, labels=labels, include_lowest=True)"
      ],
      "metadata": {
        "id": "-BdjcvFcllJM"
      },
      "execution_count": null,
      "outputs": []
    },
    {
      "cell_type": "code",
      "source": [
        "print(data['quality_binned'].value_counts())"
      ],
      "metadata": {
        "colab": {
          "base_uri": "https://localhost:8080/"
        },
        "id": "vC0zi_nFl-H3",
        "outputId": "db1433b9-82b9-45aa-c8ca-6ea6bd5999cf"
      },
      "execution_count": null,
      "outputs": [
        {
          "output_type": "stream",
          "name": "stdout",
          "text": [
            "quality_binned\n",
            "average    1505\n",
            "bad         936\n",
            "good        619\n",
            "Name: count, dtype: int64\n"
          ]
        }
      ]
    },
    {
      "cell_type": "markdown",
      "source": [
        "Podział danych na cechy i etykiety\n"
      ],
      "metadata": {
        "id": "m3X7bmxtmKWA"
      }
    },
    {
      "cell_type": "code",
      "source": [
        "data_cleaned = data.dropna(subset=['quality_binned'])\n",
        "\n",
        "X = data_cleaned.drop(columns=['quality', 'quality_binned'])\n",
        "y = data_cleaned['quality_binned']"
      ],
      "metadata": {
        "id": "sqTto9pCmATx"
      },
      "execution_count": null,
      "outputs": []
    },
    {
      "cell_type": "markdown",
      "source": [
        "Podział danych na zestawy treningowe i testowe"
      ],
      "metadata": {
        "id": "zyxqKdNNmOQ-"
      }
    },
    {
      "cell_type": "code",
      "source": [
        "X_train, X_test, y_train, y_test = train_test_split(X, y, test_size=0.2, random_state=42)"
      ],
      "metadata": {
        "id": "FvTwEZTumR5f"
      },
      "execution_count": null,
      "outputs": []
    },
    {
      "cell_type": "markdown",
      "source": [
        "## Model RandomForestClassifier"
      ],
      "metadata": {
        "id": "kekdmUp1mle7"
      }
    },
    {
      "cell_type": "code",
      "source": [
        "clf = RandomForestClassifier(random_state=42)\n",
        "clf.fit(X_train, y_train)\n",
        "\n",
        "y_pred = clf.predict(X_test)\n",
        "\n",
        "accuracy = accuracy_score(y_test, y_pred)\n",
        "report = classification_report(y_test, y_pred)"
      ],
      "metadata": {
        "id": "q8zw73tGr3qm"
      },
      "execution_count": null,
      "outputs": []
    },
    {
      "cell_type": "markdown",
      "source": [
        "Ocena wyników"
      ],
      "metadata": {
        "id": "ilffMzEVmyO1"
      }
    },
    {
      "cell_type": "code",
      "source": [
        "print(\"RandomForestClassifier - Dokładność: \", accuracy)\n",
        "print(\"RandomForestClassifier - Raport klasyfikacji:\\n\", report)\n",
        "\n",
        "cv_scores = cross_val_score(clf, X, y, scoring='roc_auc_ovr', cv=10)\n",
        "print('Cross-validation score with roc_auc_ovr scoring:', cv_scores.mean())"
      ],
      "metadata": {
        "colab": {
          "base_uri": "https://localhost:8080/"
        },
        "id": "hxoeAnL_mziV",
        "outputId": "ea52bf1a-4fe6-4d84-83e1-43c5d5e18926"
      },
      "execution_count": null,
      "outputs": [
        {
          "output_type": "stream",
          "name": "stdout",
          "text": [
            "RandomForestClassifier - Dokładność:  0.6127450980392157\n",
            "RandomForestClassifier - Raport klasyfikacji:\n",
            "               precision    recall  f1-score   support\n",
            "\n",
            "     average       0.59      0.76      0.66       295\n",
            "         bad       0.67      0.54      0.60       202\n",
            "        good       0.62      0.37      0.46       115\n",
            "\n",
            "    accuracy                           0.61       612\n",
            "   macro avg       0.63      0.56      0.57       612\n",
            "weighted avg       0.62      0.61      0.60       612\n",
            "\n",
            "Cross-validation score with roc_auc_ovr scoring: 0.7230030043522062\n"
          ]
        }
      ]
    },
    {
      "cell_type": "markdown",
      "source": [
        "## Model DecisionTreeClassifier"
      ],
      "metadata": {
        "id": "niPrGymCnCgH"
      }
    },
    {
      "cell_type": "code",
      "source": [
        "clf_dt = DecisionTreeClassifier(random_state=42)\n",
        "clf_dt.fit(X_train, y_train)\n",
        "\n",
        "y_pred_dt = clf_dt.predict(X_test)\n",
        "\n",
        "accuracy_dt = accuracy_score(y_test, y_pred_dt)\n",
        "report_dt = classification_report(y_test, y_pred_dt)"
      ],
      "metadata": {
        "id": "ioE6HGC3nJcR"
      },
      "execution_count": null,
      "outputs": []
    },
    {
      "cell_type": "markdown",
      "source": [
        "Ocena wyników"
      ],
      "metadata": {
        "id": "ez2LoEMrnNgH"
      }
    },
    {
      "cell_type": "code",
      "source": [
        "print(\"DecisionTreeClassifier - Dokładność: \", accuracy_dt)\n",
        "print(\"DecisionTreeClassifier - Raport klasyfikacji:\\n\", report_dt)\n",
        "\n",
        "cv_scores_dt = cross_val_score(clf_dt, X, y, scoring='roc_auc_ovr', cv=10)\n",
        "print('DecisionTreeClassifier - Cross-validation score with roc_auc_ovr scoring:', cv_scores_dt.mean())"
      ],
      "metadata": {
        "colab": {
          "base_uri": "https://localhost:8080/"
        },
        "id": "qlP3GeYI2oRw",
        "outputId": "97b7e8b6-087b-4de6-9c33-4b1b802e97f6"
      },
      "execution_count": null,
      "outputs": [
        {
          "output_type": "stream",
          "name": "stdout",
          "text": [
            "DecisionTreeClassifier - Dokładność:  0.5032679738562091\n",
            "DecisionTreeClassifier - Raport klasyfikacji:\n",
            "               precision    recall  f1-score   support\n",
            "\n",
            "     average       0.53      0.57      0.55       295\n",
            "         bad       0.55      0.48      0.51       202\n",
            "        good       0.37      0.39      0.38       115\n",
            "\n",
            "    accuracy                           0.50       612\n",
            "   macro avg       0.48      0.48      0.48       612\n",
            "weighted avg       0.51      0.50      0.50       612\n",
            "\n",
            "DecisionTreeClassifier - Cross-validation score with roc_auc_ovr scoring: 0.5705362719090568\n"
          ]
        }
      ]
    },
    {
      "cell_type": "markdown",
      "source": [
        "# Podsumowanie"
      ],
      "metadata": {
        "id": "evOeOkT9uxHE"
      }
    },
    {
      "cell_type": "markdown",
      "source": [
        "Porównując oba modele regresyjne:\n",
        "*\tModel RandomForestRegressor ma lepszy współczynnik R^2  na zbiorze testowym i wyższa średnia wartość  R^2  z walidacji krzyżowej, co wskazuje na lepszą zdolność generalizacji modelu niż XGBoost.\n",
        "\n",
        "Z tego powodu, RandomForestRegressor jest lepszym wyborem dla problemu regresji."
      ],
      "metadata": {
        "id": "G2LofmT6u_RQ"
      }
    },
    {
      "cell_type": "markdown",
      "source": [
        "Porównując oba modele klasyfikacyjne:\n",
        "\n",
        "* RandomForestClassifier wykazuje wyższą dokładność i lepsze wyniki AUC w walidacji krzyżowej w porównaniu do DecisionTreeClassifier.\n",
        "* Stabilność wyników oraz wyższa dokładność sugerują, że RandomForestClassifier jest bardziej odpowiednim modelem dla problemu klasyfikacji."
      ],
      "metadata": {
        "id": "Ro3g8XTJvkfs"
      }
    }
  ]
}