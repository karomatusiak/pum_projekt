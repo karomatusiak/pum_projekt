{
  "nbformat": 4,
  "nbformat_minor": 0,
  "metadata": {
    "colab": {
      "provenance": [],
      "include_colab_link": true
    },
    "kernelspec": {
      "name": "python3",
      "display_name": "Python 3"
    },
    "language_info": {
      "name": "python"
    }
  },
  "cells": [
    {
      "cell_type": "markdown",
      "metadata": {
        "id": "view-in-github",
        "colab_type": "text"
      },
      "source": [
        "<a href=\"https://colab.research.google.com/github/karomatusiak/pum_projekt/blob/main/Model_podstawowy_jako_wybrany_benchmark.ipynb\" target=\"_parent\"><img src=\"https://colab.research.google.com/assets/colab-badge.svg\" alt=\"Open In Colab\"/></a>"
      ]
    },
    {
      "cell_type": "code",
      "execution_count": 1,
      "metadata": {
        "id": "tw8VWh-0Rkoi"
      },
      "outputs": [],
      "source": [
        "import pandas as pd\n",
        "from sklearn.model_selection import train_test_split\n",
        "from sklearn.preprocessing import PolynomialFeatures\n",
        "from sklearn.linear_model import LinearRegression\n",
        "from sklearn.metrics import r2_score, mean_absolute_error, mean_squared_error, median_absolute_error\n",
        "import matplotlib.pyplot as plt"
      ]
    },
    {
      "cell_type": "code",
      "source": [
        "# załadowanie danych po preprocessingu\n",
        "df = pd.read_csv(\"/content/data_cleaned_reduced.csv\")\n",
        "df.dropna(inplace=True)\n",
        "df.head()"
      ],
      "metadata": {
        "colab": {
          "base_uri": "https://localhost:8080/",
          "height": 241
        },
        "id": "MZpdIALpRw6O",
        "outputId": "0877fefd-c68f-4e1b-c3d4-5862f3288ea5"
      },
      "execution_count": 2,
      "outputs": [
        {
          "output_type": "execute_result",
          "data": {
            "text/plain": [
              "   fixed acidity  volatile acidity  residual sugar  chlorides  \\\n",
              "0          0.375          0.543210        0.054054   0.603448   \n",
              "1          0.825          0.493827        0.340541   0.620690   \n",
              "2          0.600          0.370370        0.427027   0.758621   \n",
              "3          0.350          0.592593        0.345946   0.534483   \n",
              "4          0.825          0.345679        0.048649   0.517241   \n",
              "\n",
              "   total sulfur dioxide   density        pH  sulphates   alcohol   quality  \n",
              "0              0.488987  0.503287  0.623377   0.500000  0.189655  0.666667  \n",
              "1              0.334802  0.583638  0.571429   0.407407  0.293103  0.666667  \n",
              "2              0.726872  0.620161  0.480519   0.333333  0.258621  0.666667  \n",
              "3              0.506608  0.569028  0.467532   0.462963  0.206897  0.666667  \n",
              "4              0.475771  0.488678  0.519481   0.425926  0.448276  0.666667  "
            ],
            "text/html": [
              "\n",
              "  <div id=\"df-b93bbe61-721c-4e4a-aa80-81ea1d4d549e\" class=\"colab-df-container\">\n",
              "    <div>\n",
              "<style scoped>\n",
              "    .dataframe tbody tr th:only-of-type {\n",
              "        vertical-align: middle;\n",
              "    }\n",
              "\n",
              "    .dataframe tbody tr th {\n",
              "        vertical-align: top;\n",
              "    }\n",
              "\n",
              "    .dataframe thead th {\n",
              "        text-align: right;\n",
              "    }\n",
              "</style>\n",
              "<table border=\"1\" class=\"dataframe\">\n",
              "  <thead>\n",
              "    <tr style=\"text-align: right;\">\n",
              "      <th></th>\n",
              "      <th>fixed acidity</th>\n",
              "      <th>volatile acidity</th>\n",
              "      <th>residual sugar</th>\n",
              "      <th>chlorides</th>\n",
              "      <th>total sulfur dioxide</th>\n",
              "      <th>density</th>\n",
              "      <th>pH</th>\n",
              "      <th>sulphates</th>\n",
              "      <th>alcohol</th>\n",
              "      <th>quality</th>\n",
              "    </tr>\n",
              "  </thead>\n",
              "  <tbody>\n",
              "    <tr>\n",
              "      <th>0</th>\n",
              "      <td>0.375</td>\n",
              "      <td>0.543210</td>\n",
              "      <td>0.054054</td>\n",
              "      <td>0.603448</td>\n",
              "      <td>0.488987</td>\n",
              "      <td>0.503287</td>\n",
              "      <td>0.623377</td>\n",
              "      <td>0.500000</td>\n",
              "      <td>0.189655</td>\n",
              "      <td>0.666667</td>\n",
              "    </tr>\n",
              "    <tr>\n",
              "      <th>1</th>\n",
              "      <td>0.825</td>\n",
              "      <td>0.493827</td>\n",
              "      <td>0.340541</td>\n",
              "      <td>0.620690</td>\n",
              "      <td>0.334802</td>\n",
              "      <td>0.583638</td>\n",
              "      <td>0.571429</td>\n",
              "      <td>0.407407</td>\n",
              "      <td>0.293103</td>\n",
              "      <td>0.666667</td>\n",
              "    </tr>\n",
              "    <tr>\n",
              "      <th>2</th>\n",
              "      <td>0.600</td>\n",
              "      <td>0.370370</td>\n",
              "      <td>0.427027</td>\n",
              "      <td>0.758621</td>\n",
              "      <td>0.726872</td>\n",
              "      <td>0.620161</td>\n",
              "      <td>0.480519</td>\n",
              "      <td>0.333333</td>\n",
              "      <td>0.258621</td>\n",
              "      <td>0.666667</td>\n",
              "    </tr>\n",
              "    <tr>\n",
              "      <th>3</th>\n",
              "      <td>0.350</td>\n",
              "      <td>0.592593</td>\n",
              "      <td>0.345946</td>\n",
              "      <td>0.534483</td>\n",
              "      <td>0.506608</td>\n",
              "      <td>0.569028</td>\n",
              "      <td>0.467532</td>\n",
              "      <td>0.462963</td>\n",
              "      <td>0.206897</td>\n",
              "      <td>0.666667</td>\n",
              "    </tr>\n",
              "    <tr>\n",
              "      <th>4</th>\n",
              "      <td>0.825</td>\n",
              "      <td>0.345679</td>\n",
              "      <td>0.048649</td>\n",
              "      <td>0.517241</td>\n",
              "      <td>0.475771</td>\n",
              "      <td>0.488678</td>\n",
              "      <td>0.519481</td>\n",
              "      <td>0.425926</td>\n",
              "      <td>0.448276</td>\n",
              "      <td>0.666667</td>\n",
              "    </tr>\n",
              "  </tbody>\n",
              "</table>\n",
              "</div>\n",
              "    <div class=\"colab-df-buttons\">\n",
              "\n",
              "  <div class=\"colab-df-container\">\n",
              "    <button class=\"colab-df-convert\" onclick=\"convertToInteractive('df-b93bbe61-721c-4e4a-aa80-81ea1d4d549e')\"\n",
              "            title=\"Convert this dataframe to an interactive table.\"\n",
              "            style=\"display:none;\">\n",
              "\n",
              "  <svg xmlns=\"http://www.w3.org/2000/svg\" height=\"24px\" viewBox=\"0 -960 960 960\">\n",
              "    <path d=\"M120-120v-720h720v720H120Zm60-500h600v-160H180v160Zm220 220h160v-160H400v160Zm0 220h160v-160H400v160ZM180-400h160v-160H180v160Zm440 0h160v-160H620v160ZM180-180h160v-160H180v160Zm440 0h160v-160H620v160Z\"/>\n",
              "  </svg>\n",
              "    </button>\n",
              "\n",
              "  <style>\n",
              "    .colab-df-container {\n",
              "      display:flex;\n",
              "      gap: 12px;\n",
              "    }\n",
              "\n",
              "    .colab-df-convert {\n",
              "      background-color: #E8F0FE;\n",
              "      border: none;\n",
              "      border-radius: 50%;\n",
              "      cursor: pointer;\n",
              "      display: none;\n",
              "      fill: #1967D2;\n",
              "      height: 32px;\n",
              "      padding: 0 0 0 0;\n",
              "      width: 32px;\n",
              "    }\n",
              "\n",
              "    .colab-df-convert:hover {\n",
              "      background-color: #E2EBFA;\n",
              "      box-shadow: 0px 1px 2px rgba(60, 64, 67, 0.3), 0px 1px 3px 1px rgba(60, 64, 67, 0.15);\n",
              "      fill: #174EA6;\n",
              "    }\n",
              "\n",
              "    .colab-df-buttons div {\n",
              "      margin-bottom: 4px;\n",
              "    }\n",
              "\n",
              "    [theme=dark] .colab-df-convert {\n",
              "      background-color: #3B4455;\n",
              "      fill: #D2E3FC;\n",
              "    }\n",
              "\n",
              "    [theme=dark] .colab-df-convert:hover {\n",
              "      background-color: #434B5C;\n",
              "      box-shadow: 0px 1px 3px 1px rgba(0, 0, 0, 0.15);\n",
              "      filter: drop-shadow(0px 1px 2px rgba(0, 0, 0, 0.3));\n",
              "      fill: #FFFFFF;\n",
              "    }\n",
              "  </style>\n",
              "\n",
              "    <script>\n",
              "      const buttonEl =\n",
              "        document.querySelector('#df-b93bbe61-721c-4e4a-aa80-81ea1d4d549e button.colab-df-convert');\n",
              "      buttonEl.style.display =\n",
              "        google.colab.kernel.accessAllowed ? 'block' : 'none';\n",
              "\n",
              "      async function convertToInteractive(key) {\n",
              "        const element = document.querySelector('#df-b93bbe61-721c-4e4a-aa80-81ea1d4d549e');\n",
              "        const dataTable =\n",
              "          await google.colab.kernel.invokeFunction('convertToInteractive',\n",
              "                                                    [key], {});\n",
              "        if (!dataTable) return;\n",
              "\n",
              "        const docLinkHtml = 'Like what you see? Visit the ' +\n",
              "          '<a target=\"_blank\" href=https://colab.research.google.com/notebooks/data_table.ipynb>data table notebook</a>'\n",
              "          + ' to learn more about interactive tables.';\n",
              "        element.innerHTML = '';\n",
              "        dataTable['output_type'] = 'display_data';\n",
              "        await google.colab.output.renderOutput(dataTable, element);\n",
              "        const docLink = document.createElement('div');\n",
              "        docLink.innerHTML = docLinkHtml;\n",
              "        element.appendChild(docLink);\n",
              "      }\n",
              "    </script>\n",
              "  </div>\n",
              "\n",
              "\n",
              "<div id=\"df-5168ba93-fa66-4579-b74b-d50cb71c2b3b\">\n",
              "  <button class=\"colab-df-quickchart\" onclick=\"quickchart('df-5168ba93-fa66-4579-b74b-d50cb71c2b3b')\"\n",
              "            title=\"Suggest charts\"\n",
              "            style=\"display:none;\">\n",
              "\n",
              "<svg xmlns=\"http://www.w3.org/2000/svg\" height=\"24px\"viewBox=\"0 0 24 24\"\n",
              "     width=\"24px\">\n",
              "    <g>\n",
              "        <path d=\"M19 3H5c-1.1 0-2 .9-2 2v14c0 1.1.9 2 2 2h14c1.1 0 2-.9 2-2V5c0-1.1-.9-2-2-2zM9 17H7v-7h2v7zm4 0h-2V7h2v10zm4 0h-2v-4h2v4z\"/>\n",
              "    </g>\n",
              "</svg>\n",
              "  </button>\n",
              "\n",
              "<style>\n",
              "  .colab-df-quickchart {\n",
              "      --bg-color: #E8F0FE;\n",
              "      --fill-color: #1967D2;\n",
              "      --hover-bg-color: #E2EBFA;\n",
              "      --hover-fill-color: #174EA6;\n",
              "      --disabled-fill-color: #AAA;\n",
              "      --disabled-bg-color: #DDD;\n",
              "  }\n",
              "\n",
              "  [theme=dark] .colab-df-quickchart {\n",
              "      --bg-color: #3B4455;\n",
              "      --fill-color: #D2E3FC;\n",
              "      --hover-bg-color: #434B5C;\n",
              "      --hover-fill-color: #FFFFFF;\n",
              "      --disabled-bg-color: #3B4455;\n",
              "      --disabled-fill-color: #666;\n",
              "  }\n",
              "\n",
              "  .colab-df-quickchart {\n",
              "    background-color: var(--bg-color);\n",
              "    border: none;\n",
              "    border-radius: 50%;\n",
              "    cursor: pointer;\n",
              "    display: none;\n",
              "    fill: var(--fill-color);\n",
              "    height: 32px;\n",
              "    padding: 0;\n",
              "    width: 32px;\n",
              "  }\n",
              "\n",
              "  .colab-df-quickchart:hover {\n",
              "    background-color: var(--hover-bg-color);\n",
              "    box-shadow: 0 1px 2px rgba(60, 64, 67, 0.3), 0 1px 3px 1px rgba(60, 64, 67, 0.15);\n",
              "    fill: var(--button-hover-fill-color);\n",
              "  }\n",
              "\n",
              "  .colab-df-quickchart-complete:disabled,\n",
              "  .colab-df-quickchart-complete:disabled:hover {\n",
              "    background-color: var(--disabled-bg-color);\n",
              "    fill: var(--disabled-fill-color);\n",
              "    box-shadow: none;\n",
              "  }\n",
              "\n",
              "  .colab-df-spinner {\n",
              "    border: 2px solid var(--fill-color);\n",
              "    border-color: transparent;\n",
              "    border-bottom-color: var(--fill-color);\n",
              "    animation:\n",
              "      spin 1s steps(1) infinite;\n",
              "  }\n",
              "\n",
              "  @keyframes spin {\n",
              "    0% {\n",
              "      border-color: transparent;\n",
              "      border-bottom-color: var(--fill-color);\n",
              "      border-left-color: var(--fill-color);\n",
              "    }\n",
              "    20% {\n",
              "      border-color: transparent;\n",
              "      border-left-color: var(--fill-color);\n",
              "      border-top-color: var(--fill-color);\n",
              "    }\n",
              "    30% {\n",
              "      border-color: transparent;\n",
              "      border-left-color: var(--fill-color);\n",
              "      border-top-color: var(--fill-color);\n",
              "      border-right-color: var(--fill-color);\n",
              "    }\n",
              "    40% {\n",
              "      border-color: transparent;\n",
              "      border-right-color: var(--fill-color);\n",
              "      border-top-color: var(--fill-color);\n",
              "    }\n",
              "    60% {\n",
              "      border-color: transparent;\n",
              "      border-right-color: var(--fill-color);\n",
              "    }\n",
              "    80% {\n",
              "      border-color: transparent;\n",
              "      border-right-color: var(--fill-color);\n",
              "      border-bottom-color: var(--fill-color);\n",
              "    }\n",
              "    90% {\n",
              "      border-color: transparent;\n",
              "      border-bottom-color: var(--fill-color);\n",
              "    }\n",
              "  }\n",
              "</style>\n",
              "\n",
              "  <script>\n",
              "    async function quickchart(key) {\n",
              "      const quickchartButtonEl =\n",
              "        document.querySelector('#' + key + ' button');\n",
              "      quickchartButtonEl.disabled = true;  // To prevent multiple clicks.\n",
              "      quickchartButtonEl.classList.add('colab-df-spinner');\n",
              "      try {\n",
              "        const charts = await google.colab.kernel.invokeFunction(\n",
              "            'suggestCharts', [key], {});\n",
              "      } catch (error) {\n",
              "        console.error('Error during call to suggestCharts:', error);\n",
              "      }\n",
              "      quickchartButtonEl.classList.remove('colab-df-spinner');\n",
              "      quickchartButtonEl.classList.add('colab-df-quickchart-complete');\n",
              "    }\n",
              "    (() => {\n",
              "      let quickchartButtonEl =\n",
              "        document.querySelector('#df-5168ba93-fa66-4579-b74b-d50cb71c2b3b button');\n",
              "      quickchartButtonEl.style.display =\n",
              "        google.colab.kernel.accessAllowed ? 'block' : 'none';\n",
              "    })();\n",
              "  </script>\n",
              "</div>\n",
              "    </div>\n",
              "  </div>\n"
            ],
            "application/vnd.google.colaboratory.intrinsic+json": {
              "type": "dataframe",
              "variable_name": "df",
              "summary": "{\n  \"name\": \"df\",\n  \"rows\": 3060,\n  \"fields\": [\n    {\n      \"column\": \"fixed acidity\",\n      \"properties\": {\n        \"dtype\": \"number\",\n        \"std\": 0.18822299696821548,\n        \"min\": 0.0,\n        \"max\": 1.0,\n        \"num_unique_values\": 43,\n        \"samples\": [\n          0.05,\n          0.8499999999999996,\n          0.1999999999999999\n        ],\n        \"semantic_type\": \"\",\n        \"description\": \"\"\n      }\n    },\n    {\n      \"column\": \"volatile acidity\",\n      \"properties\": {\n        \"dtype\": \"number\",\n        \"std\": 0.1874491293268615,\n        \"min\": 0.0,\n        \"max\": 1.0000000000000002,\n        \"num_unique_values\": 76,\n        \"samples\": [\n          0.3456790123456791,\n          0.6666666666666667,\n          0.5679012345679013\n        ],\n        \"semantic_type\": \"\",\n        \"description\": \"\"\n      }\n    },\n    {\n      \"column\": \"residual sugar\",\n      \"properties\": {\n        \"dtype\": \"number\",\n        \"std\": 0.24680002883105145,\n        \"min\": 0.0,\n        \"max\": 1.0,\n        \"num_unique_values\": 271,\n        \"samples\": [\n          0.3891891891891892,\n          0.6432432432432432,\n          0.9297297297297298\n        ],\n        \"semantic_type\": \"\",\n        \"description\": \"\"\n      }\n    },\n    {\n      \"column\": \"chlorides\",\n      \"properties\": {\n        \"dtype\": \"number\",\n        \"std\": 0.17051034143421562,\n        \"min\": 0.0,\n        \"max\": 1.0,\n        \"num_unique_values\": 59,\n        \"samples\": [\n          0.6034482758620691,\n          0.3275862068965517,\n          0.2068965517241379\n        ],\n        \"semantic_type\": \"\",\n        \"description\": \"\"\n      }\n    },\n    {\n      \"column\": \"total sulfur dioxide\",\n      \"properties\": {\n        \"dtype\": \"number\",\n        \"std\": 0.18173472502362517,\n        \"min\": 0.0,\n        \"max\": 1.0,\n        \"num_unique_values\": 219,\n        \"samples\": [\n          0.6343612334801763,\n          0.8502202643171807,\n          0.6321585903083701\n        ],\n        \"semantic_type\": \"\",\n        \"description\": \"\"\n      }\n    },\n    {\n      \"column\": \"density\",\n      \"properties\": {\n        \"dtype\": \"number\",\n        \"std\": 0.19883368777374663,\n        \"min\": 0.0,\n        \"max\": 1.0,\n        \"num_unique_values\": 807,\n        \"samples\": [\n          0.1950328707085447,\n          0.4346238130022044,\n          0.3024105186267434\n        ],\n        \"semantic_type\": \"\",\n        \"description\": \"\"\n      }\n    },\n    {\n      \"column\": \"pH\",\n      \"properties\": {\n        \"dtype\": \"number\",\n        \"std\": 0.18023597793470528,\n        \"min\": 0.0,\n        \"max\": 1.0,\n        \"num_unique_values\": 78,\n        \"samples\": [\n          0.6623376623376629,\n          0.6233766233766236,\n          0.285714285714286\n        ],\n        \"semantic_type\": \"\",\n        \"description\": \"\"\n      }\n    },\n    {\n      \"column\": \"sulphates\",\n      \"properties\": {\n        \"dtype\": \"number\",\n        \"std\": 0.18140977542264292,\n        \"min\": 0.0,\n        \"max\": 0.9999999999999998,\n        \"num_unique_values\": 54,\n        \"samples\": [\n          0.6666666666666665,\n          0.0555555555555555,\n          0.1666666666666665\n        ],\n        \"semantic_type\": \"\",\n        \"description\": \"\"\n      }\n    },\n    {\n      \"column\": \"alcohol\",\n      \"properties\": {\n        \"dtype\": \"number\",\n        \"std\": 0.20192171643267884,\n        \"min\": 0.0,\n        \"max\": 0.9999999999999998,\n        \"num_unique_values\": 97,\n        \"samples\": [\n          0.5229885057471206,\n          0.6551724137931034,\n          0.632183908045983\n        ],\n        \"semantic_type\": \"\",\n        \"description\": \"\"\n      }\n    },\n    {\n      \"column\": \"quality\",\n      \"properties\": {\n        \"dtype\": \"number\",\n        \"std\": 0.2520464732938294,\n        \"min\": 0.0,\n        \"max\": 0.9999999999999998,\n        \"num_unique_values\": 4,\n        \"samples\": [\n          0.3333333333333332,\n          0.0,\n          0.6666666666666667\n        ],\n        \"semantic_type\": \"\",\n        \"description\": \"\"\n      }\n    }\n  ]\n}"
            }
          },
          "metadata": {},
          "execution_count": 2
        }
      ]
    },
    {
      "cell_type": "code",
      "source": [
        "# wyświetlenie podstawowych informacji o danych\n",
        "df.info()"
      ],
      "metadata": {
        "colab": {
          "base_uri": "https://localhost:8080/"
        },
        "id": "syTdsvCWR5Jr",
        "outputId": "20330912-5cc5-466c-fbee-2e4a06971003"
      },
      "execution_count": 3,
      "outputs": [
        {
          "output_type": "stream",
          "name": "stdout",
          "text": [
            "<class 'pandas.core.frame.DataFrame'>\n",
            "RangeIndex: 3060 entries, 0 to 3059\n",
            "Data columns (total 10 columns):\n",
            " #   Column                Non-Null Count  Dtype  \n",
            "---  ------                --------------  -----  \n",
            " 0   fixed acidity         3060 non-null   float64\n",
            " 1   volatile acidity      3060 non-null   float64\n",
            " 2   residual sugar        3060 non-null   float64\n",
            " 3   chlorides             3060 non-null   float64\n",
            " 4   total sulfur dioxide  3060 non-null   float64\n",
            " 5   density               3060 non-null   float64\n",
            " 6   pH                    3060 non-null   float64\n",
            " 7   sulphates             3060 non-null   float64\n",
            " 8   alcohol               3060 non-null   float64\n",
            " 9   quality               3060 non-null   float64\n",
            "dtypes: float64(10)\n",
            "memory usage: 239.2 KB\n"
          ]
        }
      ]
    },
    {
      "cell_type": "code",
      "source": [
        "# podział danych na zmienne objaśniające (X) i zmienną objaśnianą (y)\n",
        "X = df.drop(columns=['quality'])\n",
        "y = df['quality']\n",
        "\n",
        "# podział danych na zbiór treningowy i testowy\n",
        "X_train, X_test, y_train, y_test = train_test_split(X, y, test_size=0.2, random_state=42)"
      ],
      "metadata": {
        "id": "iK9LFwnkR27L"
      },
      "execution_count": 4,
      "outputs": []
    },
    {
      "cell_type": "code",
      "source": [
        "# przygotowanie cech wielomianowych\n",
        "poly_features = PolynomialFeatures(degree=2)\n",
        "X_train_poly = poly_features.fit_transform(X_train)\n",
        "X_test_poly = poly_features.transform(X_test)"
      ],
      "metadata": {
        "id": "pozTTk6TSEkQ"
      },
      "execution_count": 5,
      "outputs": []
    },
    {
      "cell_type": "code",
      "source": [
        "# dopasowanie modelu regresji wielomianowej stopnia 2\n",
        "model = LinearRegression()\n",
        "model.fit(X_train_poly, y_train)\n",
        "\n",
        "print('Współczynniki: ', model.coef_)\n",
        "print('Wyraz wolny: ', model.intercept_)"
      ],
      "metadata": {
        "colab": {
          "base_uri": "https://localhost:8080/"
        },
        "id": "9Mtl0C4vVHfm",
        "outputId": "a7dc2219-43bb-4f03-d8f1-505a93e6cdc7"
      },
      "execution_count": 6,
      "outputs": [
        {
          "output_type": "stream",
          "name": "stdout",
          "text": [
            "Współczynniki:  [ 2.49353703e-15  6.45389788e-01 -9.36570744e-01  2.26563589e+00\n",
            " -1.55095390e-01  1.12732367e-01 -4.25415065e+00  8.14162629e-01\n",
            "  9.35633777e-01 -1.56149072e+00  1.35203844e-01 -1.02420309e-01\n",
            "  3.36677300e-01 -6.28970174e-01  7.37282842e-02 -1.23953343e+00\n",
            "  8.24349307e-01  2.67535618e-01 -7.29354357e-01  4.87819368e-01\n",
            " -2.27146919e-01 -2.76842614e-01  3.65032622e-01  1.05927803e-01\n",
            "  1.99645259e-01 -8.08779326e-02  4.74272488e-01 -3.80792470e-01\n",
            " -1.13926945e+00 -9.18709331e-01 -1.17286323e+00  4.61958660e-01\n",
            "  7.08412547e-01 -1.35383549e+00 -2.07057813e-02 -4.15688709e-01\n",
            "  2.05756199e+00 -5.76711994e-01  1.58704332e-01  7.59518103e-01\n",
            " -6.11441525e-01  1.84514102e+00 -1.14226981e-01 -4.15207902e-01\n",
            "  6.47868802e-01  2.81620864e+00 -2.18793171e+00 -1.52029729e+00\n",
            "  3.65639323e+00  4.19668681e-01  5.15360604e-01 -1.23735752e+00\n",
            " -7.88677373e-02 -9.67183841e-01  1.07112351e+00]\n",
            "Wyraz wolny:  1.2717701675244424\n"
          ]
        }
      ]
    },
    {
      "cell_type": "code",
      "source": [
        "# predykcja na danych testowych\n",
        "y_pred = model.predict(X_test_poly)\n",
        "\n",
        "# ocena modelu\n",
        "print(\"R-squared (R2):\", r2_score(y_test, y_pred))\n",
        "print(\"Mean Squared Error (MSE):\", mean_squared_error(y_test, y_pred))\n",
        "print(\"Mean Absolute Error (MAE):\", mean_absolute_error(y_test, y_pred))\n",
        "print(\"Median Absolute Error (MedAE):\", median_absolute_error(y_test, y_pred))"
      ],
      "metadata": {
        "colab": {
          "base_uri": "https://localhost:8080/"
        },
        "id": "OTgdD_sVGEYV",
        "outputId": "ce421c06-59e2-4a3f-dc25-12bf756400f2"
      },
      "execution_count": 7,
      "outputs": [
        {
          "output_type": "stream",
          "name": "stdout",
          "text": [
            "R-squared (R2): 0.3277526995298087\n",
            "Mean Squared Error (MSE): 0.04178132911238091\n",
            "Mean Absolute Error (MAE): 0.16373108278095302\n",
            "Median Absolute Error (MedAE): 0.14278632846957828\n"
          ]
        }
      ]
    },
    {
      "cell_type": "markdown",
      "source": [
        "1. R-squared (R2): R2 = 0.3277 oznacza, że nasz model regresji wielomianowej stopnia 2 wyjaśnia około 32,77% zmienności w jakości wina na podstawie dostępnych cech.\n",
        "\n",
        "2. Mean Squared Error (MSE): Średni błąd kwadratowy = 0.0418 oznacza, że nasz model ma stosunkowo niski błąd.\n",
        "\n",
        "3. Mean Absolute Error (MAE): Średni błąd bezwzględny = 0.1637 oznacza, że średnia bezwzględna różnica między predykcjami a rzeczywistymi wartościami wynosi około 0.1637.\n",
        "\n",
        "4. Median Absolute Error: Mediana błędu bezwzględnego = 0.1428 to mediana wartości bezwzględnych błędów między predykcjami a rzeczywistymi wartościami.\n",
        "\n",
        "Zatem nasz model regresji wielomianowej stopnia 2 wydaje się wyjaśniać część wariancji w jakości wina, ale nadal istnieją obszary, które mogą być ulepszone, biorąc pod uwagę średnie błędy i wartości R2."
      ],
      "metadata": {
        "id": "mB90pfJ4dEkI"
      }
    },
    {
      "cell_type": "code",
      "source": [
        "# zwizualizowanie predykcji\n",
        "plt.figure(figsize=(10, 6))\n",
        "plt.scatter(y_test, y_pred, color='blue', label='Predicted')\n",
        "plt.plot([y_test.min(), y_test.max()], [y_test.min(), y_test.max()], 'k--', lw=2, color='red', label='Actual')\n",
        "plt.xlabel('Actual')\n",
        "plt.ylabel('Predicted')\n",
        "plt.title('Actual vs Predicted')\n",
        "plt.legend()\n",
        "plt.show()\n"
      ],
      "metadata": {
        "colab": {
          "base_uri": "https://localhost:8080/",
          "height": 619
        },
        "id": "hXRpe8muStnL",
        "outputId": "3ae7a726-86d1-4870-f2a1-7f3554c7c4c5"
      },
      "execution_count": 8,
      "outputs": [
        {
          "output_type": "stream",
          "name": "stderr",
          "text": [
            "<ipython-input-8-5c6b527005f5>:4: UserWarning: color is redundantly defined by the 'color' keyword argument and the fmt string \"k--\" (-> color='k'). The keyword argument will take precedence.\n",
            "  plt.plot([y_test.min(), y_test.max()], [y_test.min(), y_test.max()], 'k--', lw=2, color='red', label='Actual')\n"
          ]
        },
        {
          "output_type": "display_data",
          "data": {
            "text/plain": [
              "<Figure size 1000x600 with 1 Axes>"
            ],
            "image/png": "[encoded data removed]"
          },
          "metadata": {}
        }
      ]
    },
    {
      "cell_type": "code",
      "source": [
        "# zwizualizowanie reszt\n",
        "residuals = y_pred - y_test\n",
        "plt.figure(figsize=(10, 6))\n",
        "plt.scatter(y_test, residuals, color='blue')\n",
        "plt.axhline(y=0, color='red', linestyle='--', lw=2)\n",
        "plt.xlabel('Actual')\n",
        "plt.ylabel('Residuals')\n",
        "plt.title('Residual Plot')\n",
        "plt.show()"
      ],
      "metadata": {
        "colab": {
          "base_uri": "https://localhost:8080/",
          "height": 564
        },
        "id": "rowiafQcKABe",
        "outputId": "6ed7a570-1fed-43cd-86b5-8a8de9478235"
      },
      "execution_count": 9,
      "outputs": [
        {
          "output_type": "display_data",
          "data": {
            "text/plain": [
              "<Figure size 1000x600 with 1 Axes>"
            ],
            "image/png": "[encoded data removed]"
          },
          "metadata": {}
        }
      ]
    },
    {
      "cell_type": "code",
      "source": [
        "# histogram reszt\n",
        "plt.figure(figsize=(10, 6))\n",
        "plt.hist(residuals, bins=30, color='blue', edgecolor='black')\n",
        "plt.axvline(x=0, color='red', linestyle='--', lw=2)\n",
        "plt.title('Histogram of Residuals')\n",
        "plt.xlabel('Residuals')\n",
        "plt.ylabel('Frequency')\n",
        "plt.show()"
      ],
      "metadata": {
        "colab": {
          "base_uri": "https://localhost:8080/",
          "height": 564
        },
        "id": "4IAiPhHoKFGu",
        "outputId": "3c8cc55a-6746-4858-c4a7-2f1d8a566a1f"
      },
      "execution_count": 10,
      "outputs": [
        {
          "output_type": "display_data",
          "data": {
            "text/plain": [
              "<Figure size 1000x600 with 1 Axes>"
            ],
            "image/png": "[encoded data removed]"
          },
          "metadata": {}
        }
      ]
    },
    {
      "cell_type": "markdown",
      "source": [
        "# **Cross validation**"
      ],
      "metadata": {
        "id": "NttVagx_GnTh"
      }
    },
    {
      "cell_type": "code",
      "source": [
        "from sklearn.model_selection import cross_val_score\n",
        "\n",
        "poly_features = PolynomialFeatures(degree=2)\n",
        "X_poly = poly_features.fit_transform(X)\n",
        "\n",
        "model = LinearRegression()\n",
        "\n",
        "cv_scores = cross_val_score(model, X_poly, y, cv=5, scoring='r2')\n",
        "\n",
        "print(\"Cross-validated R^2 scores:\", cv_scores)\n",
        "print(\"Mean R^2 from CV:\", cv_scores.mean())\n",
        "print(\"Standard Deviation of R-squared from CV:\", cv_scores.std())"
      ],
      "metadata": {
        "colab": {
          "base_uri": "https://localhost:8080/"
        },
        "id": "1aoaqFFfGm_9",
        "outputId": "9d1222c3-87ce-400c-ef21-c803df50a97a"
      },
      "execution_count": 11,
      "outputs": [
        {
          "output_type": "stream",
          "name": "stdout",
          "text": [
            "Cross-validated R^2 scores: [0.19729017 0.1920371  0.29623817 0.30582293 0.25538134]\n",
            "Mean R^2 from CV: 0.2493539414415448\n",
            "Standard Deviation of R-squared from CV: 0.047789253037263155\n"
          ]
        }
      ]
    },
    {
      "cell_type": "markdown",
      "source": [
        "- **R^2 scores**: [0.197, 0.192, 0.296, 0.306, 0.255]\n",
        "  \n",
        "  Wyniki R-squared dla każdego foldu w walidacji krzyżowej wahają się od ok. 0.197 do 0.306, co wskazuje na umiarkowaną zdolność modelu do przewidywania jakości.\n",
        "\n",
        "- **Średnia wartość R^2**: 0.249\n",
        "\n",
        "  Średnia wartość R^2 sugeruje, że model wyjaśnia ok. 24.9% zmienności w danych na różnych zbiorach testowych.\n",
        "\n",
        "- **Odchylenie standardowe R-squared**: 0.048\n",
        "\n",
        "  Odchylenie standardowe R^2 pokazuje, że wyniki są stosunkowo stabilne między różnymi podzbiorami danych, ale nadal istnieje pewna zmienność.\n",
        "\n",
        "- **Średni Mean Squared Error (MSE)**: 0.047\n",
        "\n",
        " **Odchylenie standardowe MSE**: 0.006\n",
        "\n",
        " MSE średnio wynosi ok. 0.047, z niewielkim odchyleniem standardowym, co wskazuje na to, że błędy są dość niskie."
      ],
      "metadata": {
        "id": "JtPH_QCGIKbb"
      }
    }
  ]
}